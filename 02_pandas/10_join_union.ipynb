{
 "cells": [
  {
   "cell_type": "code",
   "execution_count": 1,
   "metadata": {},
   "outputs": [],
   "source": [
    "import pandas as pd"
   ]
  },
  {
   "cell_type": "code",
   "execution_count": 2,
   "metadata": {},
   "outputs": [],
   "source": [
    "# kaynak: https://pandas.pydata.org/pandas-docs/stable/user_guide/merging.html"
   ]
  },
  {
   "cell_type": "code",
   "execution_count": 3,
   "metadata": {},
   "outputs": [],
   "source": [
    "order_items_df = pd.read_csv(\"D:/order_items.csv\")"
   ]
  },
  {
   "cell_type": "code",
   "execution_count": 4,
   "metadata": {},
   "outputs": [
    {
     "data": {
      "text/html": [
       "<div>\n",
       "<style scoped>\n",
       "    .dataframe tbody tr th:only-of-type {\n",
       "        vertical-align: middle;\n",
       "    }\n",
       "\n",
       "    .dataframe tbody tr th {\n",
       "        vertical-align: top;\n",
       "    }\n",
       "\n",
       "    .dataframe thead th {\n",
       "        text-align: right;\n",
       "    }\n",
       "</style>\n",
       "<table border=\"1\" class=\"dataframe\">\n",
       "  <thead>\n",
       "    <tr style=\"text-align: right;\">\n",
       "      <th></th>\n",
       "      <th>orderItemName</th>\n",
       "      <th>orderItemOrderId</th>\n",
       "      <th>orderItemProductId</th>\n",
       "      <th>orderItemQuantity</th>\n",
       "      <th>orderItemSubTotal</th>\n",
       "      <th>orderItemProductPrice</th>\n",
       "    </tr>\n",
       "  </thead>\n",
       "  <tbody>\n",
       "    <tr>\n",
       "      <td>0</td>\n",
       "      <td>1</td>\n",
       "      <td>1</td>\n",
       "      <td>957</td>\n",
       "      <td>1</td>\n",
       "      <td>299.98</td>\n",
       "      <td>299.98</td>\n",
       "    </tr>\n",
       "    <tr>\n",
       "      <td>1</td>\n",
       "      <td>2</td>\n",
       "      <td>2</td>\n",
       "      <td>1073</td>\n",
       "      <td>1</td>\n",
       "      <td>199.99</td>\n",
       "      <td>199.99</td>\n",
       "    </tr>\n",
       "    <tr>\n",
       "      <td>2</td>\n",
       "      <td>3</td>\n",
       "      <td>2</td>\n",
       "      <td>502</td>\n",
       "      <td>5</td>\n",
       "      <td>250.00</td>\n",
       "      <td>50.00</td>\n",
       "    </tr>\n",
       "    <tr>\n",
       "      <td>3</td>\n",
       "      <td>4</td>\n",
       "      <td>2</td>\n",
       "      <td>403</td>\n",
       "      <td>1</td>\n",
       "      <td>129.99</td>\n",
       "      <td>129.99</td>\n",
       "    </tr>\n",
       "    <tr>\n",
       "      <td>4</td>\n",
       "      <td>5</td>\n",
       "      <td>4</td>\n",
       "      <td>897</td>\n",
       "      <td>2</td>\n",
       "      <td>49.98</td>\n",
       "      <td>24.99</td>\n",
       "    </tr>\n",
       "  </tbody>\n",
       "</table>\n",
       "</div>"
      ],
      "text/plain": [
       "   orderItemName  orderItemOrderId  orderItemProductId  orderItemQuantity  \\\n",
       "0              1                 1                 957                  1   \n",
       "1              2                 2                1073                  1   \n",
       "2              3                 2                 502                  5   \n",
       "3              4                 2                 403                  1   \n",
       "4              5                 4                 897                  2   \n",
       "\n",
       "   orderItemSubTotal  orderItemProductPrice  \n",
       "0             299.98                 299.98  \n",
       "1             199.99                 199.99  \n",
       "2             250.00                  50.00  \n",
       "3             129.99                 129.99  \n",
       "4              49.98                  24.99  "
      ]
     },
     "execution_count": 4,
     "metadata": {},
     "output_type": "execute_result"
    }
   ],
   "source": [
    "order_items_df.head()"
   ]
  },
  {
   "cell_type": "code",
   "execution_count": 5,
   "metadata": {},
   "outputs": [],
   "source": [
    "order_items_df = pd.read_csv(\"D:\\\\Datasets\\\\retail_db\\\\order_items.csv\")"
   ]
  },
  {
   "cell_type": "code",
   "execution_count": 6,
   "metadata": {},
   "outputs": [],
   "source": [
    "products_df = pd.read_csv(\"D:\\\\Datasets\\\\retail_db\\\\products.csv\")"
   ]
  },
  {
   "cell_type": "code",
   "execution_count": 7,
   "metadata": {},
   "outputs": [
    {
     "data": {
      "text/html": [
       "<div>\n",
       "<style scoped>\n",
       "    .dataframe tbody tr th:only-of-type {\n",
       "        vertical-align: middle;\n",
       "    }\n",
       "\n",
       "    .dataframe tbody tr th {\n",
       "        vertical-align: top;\n",
       "    }\n",
       "\n",
       "    .dataframe thead th {\n",
       "        text-align: right;\n",
       "    }\n",
       "</style>\n",
       "<table border=\"1\" class=\"dataframe\">\n",
       "  <thead>\n",
       "    <tr style=\"text-align: right;\">\n",
       "      <th></th>\n",
       "      <th>orderItemName</th>\n",
       "      <th>orderItemOrderId</th>\n",
       "      <th>orderItemProductId</th>\n",
       "      <th>orderItemQuantity</th>\n",
       "      <th>orderItemSubTotal</th>\n",
       "      <th>orderItemProductPrice</th>\n",
       "    </tr>\n",
       "  </thead>\n",
       "  <tbody>\n",
       "    <tr>\n",
       "      <td>0</td>\n",
       "      <td>1</td>\n",
       "      <td>1</td>\n",
       "      <td>957</td>\n",
       "      <td>1</td>\n",
       "      <td>299.98</td>\n",
       "      <td>299.98</td>\n",
       "    </tr>\n",
       "    <tr>\n",
       "      <td>1</td>\n",
       "      <td>2</td>\n",
       "      <td>2</td>\n",
       "      <td>1073</td>\n",
       "      <td>1</td>\n",
       "      <td>199.99</td>\n",
       "      <td>199.99</td>\n",
       "    </tr>\n",
       "    <tr>\n",
       "      <td>2</td>\n",
       "      <td>3</td>\n",
       "      <td>2</td>\n",
       "      <td>502</td>\n",
       "      <td>5</td>\n",
       "      <td>250.00</td>\n",
       "      <td>50.00</td>\n",
       "    </tr>\n",
       "    <tr>\n",
       "      <td>3</td>\n",
       "      <td>4</td>\n",
       "      <td>2</td>\n",
       "      <td>403</td>\n",
       "      <td>1</td>\n",
       "      <td>129.99</td>\n",
       "      <td>129.99</td>\n",
       "    </tr>\n",
       "    <tr>\n",
       "      <td>4</td>\n",
       "      <td>5</td>\n",
       "      <td>4</td>\n",
       "      <td>897</td>\n",
       "      <td>2</td>\n",
       "      <td>49.98</td>\n",
       "      <td>24.99</td>\n",
       "    </tr>\n",
       "  </tbody>\n",
       "</table>\n",
       "</div>"
      ],
      "text/plain": [
       "   orderItemName  orderItemOrderId  orderItemProductId  orderItemQuantity  \\\n",
       "0              1                 1                 957                  1   \n",
       "1              2                 2                1073                  1   \n",
       "2              3                 2                 502                  5   \n",
       "3              4                 2                 403                  1   \n",
       "4              5                 4                 897                  2   \n",
       "\n",
       "   orderItemSubTotal  orderItemProductPrice  \n",
       "0             299.98                 299.98  \n",
       "1             199.99                 199.99  \n",
       "2             250.00                  50.00  \n",
       "3             129.99                 129.99  \n",
       "4              49.98                  24.99  "
      ]
     },
     "execution_count": 7,
     "metadata": {},
     "output_type": "execute_result"
    }
   ],
   "source": [
    "order_items_df.head()"
   ]
  },
  {
   "cell_type": "code",
   "execution_count": 9,
   "metadata": {},
   "outputs": [
    {
     "data": {
      "text/html": [
       "<div>\n",
       "<style scoped>\n",
       "    .dataframe tbody tr th:only-of-type {\n",
       "        vertical-align: middle;\n",
       "    }\n",
       "\n",
       "    .dataframe tbody tr th {\n",
       "        vertical-align: top;\n",
       "    }\n",
       "\n",
       "    .dataframe thead th {\n",
       "        text-align: right;\n",
       "    }\n",
       "</style>\n",
       "<table border=\"1\" class=\"dataframe\">\n",
       "  <thead>\n",
       "    <tr style=\"text-align: right;\">\n",
       "      <th></th>\n",
       "      <th>productId</th>\n",
       "      <th>productCategoryId</th>\n",
       "      <th>productName</th>\n",
       "      <th>productDescription</th>\n",
       "      <th>productPrice</th>\n",
       "      <th>productImage</th>\n",
       "    </tr>\n",
       "  </thead>\n",
       "  <tbody>\n",
       "    <tr>\n",
       "      <td>0</td>\n",
       "      <td>1</td>\n",
       "      <td>2</td>\n",
       "      <td>Quest Q64 10 FT. x 10 FT. Slant Leg Instant U</td>\n",
       "      <td>NaN</td>\n",
       "      <td>59.98</td>\n",
       "      <td>http://images.acmesports.sports/Quest+Q64+10+F...</td>\n",
       "    </tr>\n",
       "    <tr>\n",
       "      <td>1</td>\n",
       "      <td>2</td>\n",
       "      <td>2</td>\n",
       "      <td>Under Armour Men's Highlight MC Football Clea</td>\n",
       "      <td>NaN</td>\n",
       "      <td>129.99</td>\n",
       "      <td>http://images.acmesports.sports/Under+Armour+M...</td>\n",
       "    </tr>\n",
       "  </tbody>\n",
       "</table>\n",
       "</div>"
      ],
      "text/plain": [
       "   productId  productCategoryId  \\\n",
       "0          1                  2   \n",
       "1          2                  2   \n",
       "\n",
       "                                     productName  productDescription  \\\n",
       "0  Quest Q64 10 FT. x 10 FT. Slant Leg Instant U                 NaN   \n",
       "1  Under Armour Men's Highlight MC Football Clea                 NaN   \n",
       "\n",
       "   productPrice                                       productImage  \n",
       "0         59.98  http://images.acmesports.sports/Quest+Q64+10+F...  \n",
       "1        129.99  http://images.acmesports.sports/Under+Armour+M...  "
      ]
     },
     "execution_count": 9,
     "metadata": {},
     "output_type": "execute_result"
    }
   ],
   "source": [
    "products_df.head(2)"
   ]
  },
  {
   "cell_type": "markdown",
   "metadata": {},
   "source": [
    "# Union two dataframe with concatenate"
   ]
  },
  {
   "cell_type": "code",
   "execution_count": 9,
   "metadata": {},
   "outputs": [],
   "source": [
    "# union için şemalar aynı olmalıdır."
   ]
  },
  {
   "cell_type": "code",
   "execution_count": 10,
   "metadata": {},
   "outputs": [
    {
     "data": {
      "text/plain": [
       "(1345, 6)"
      ]
     },
     "execution_count": 10,
     "metadata": {},
     "output_type": "execute_result"
    }
   ],
   "source": [
    "products_df.shape"
   ]
  },
  {
   "cell_type": "code",
   "execution_count": 11,
   "metadata": {},
   "outputs": [],
   "source": [
    "union_products_df = pd.concat([products_df, products_df])"
   ]
  },
  {
   "cell_type": "code",
   "execution_count": 12,
   "metadata": {},
   "outputs": [
    {
     "data": {
      "text/plain": [
       "(2690, 6)"
      ]
     },
     "execution_count": 12,
     "metadata": {},
     "output_type": "execute_result"
    }
   ],
   "source": [
    "union_products_df.shape"
   ]
  },
  {
   "cell_type": "markdown",
   "metadata": {},
   "source": [
    "# Inner Join two dataframes"
   ]
  },
  {
   "cell_type": "code",
   "execution_count": 13,
   "metadata": {},
   "outputs": [],
   "source": [
    "# Siparişler ile ürünleri ürün id üzerinden birleştirme"
   ]
  },
  {
   "cell_type": "code",
   "execution_count": 13,
   "metadata": {},
   "outputs": [],
   "source": [
    "inner_join_df = pd.merge(order_items_df, products_df, left_on = \"orderItemProductId\", \n",
    "                         right_on = \"productId\", how = \"inner\")"
   ]
  },
  {
   "cell_type": "code",
   "execution_count": 14,
   "metadata": {},
   "outputs": [
    {
     "data": {
      "text/html": [
       "<div>\n",
       "<style scoped>\n",
       "    .dataframe tbody tr th:only-of-type {\n",
       "        vertical-align: middle;\n",
       "    }\n",
       "\n",
       "    .dataframe tbody tr th {\n",
       "        vertical-align: top;\n",
       "    }\n",
       "\n",
       "    .dataframe thead th {\n",
       "        text-align: right;\n",
       "    }\n",
       "</style>\n",
       "<table border=\"1\" class=\"dataframe\">\n",
       "  <thead>\n",
       "    <tr style=\"text-align: right;\">\n",
       "      <th></th>\n",
       "      <th>orderItemName</th>\n",
       "      <th>orderItemOrderId</th>\n",
       "      <th>orderItemProductId</th>\n",
       "      <th>orderItemQuantity</th>\n",
       "      <th>orderItemSubTotal</th>\n",
       "      <th>orderItemProductPrice</th>\n",
       "      <th>productId</th>\n",
       "      <th>productCategoryId</th>\n",
       "      <th>productName</th>\n",
       "      <th>productDescription</th>\n",
       "      <th>productPrice</th>\n",
       "      <th>productImage</th>\n",
       "    </tr>\n",
       "  </thead>\n",
       "  <tbody>\n",
       "    <tr>\n",
       "      <td>0</td>\n",
       "      <td>1</td>\n",
       "      <td>1</td>\n",
       "      <td>957</td>\n",
       "      <td>1</td>\n",
       "      <td>299.98</td>\n",
       "      <td>299.98</td>\n",
       "      <td>957</td>\n",
       "      <td>43</td>\n",
       "      <td>Diamondback Women's Serene Classic Comfort Bi</td>\n",
       "      <td>NaN</td>\n",
       "      <td>299.98</td>\n",
       "      <td>http://images.acmesports.sports/Diamondback+Wo...</td>\n",
       "    </tr>\n",
       "    <tr>\n",
       "      <td>1</td>\n",
       "      <td>9</td>\n",
       "      <td>5</td>\n",
       "      <td>957</td>\n",
       "      <td>1</td>\n",
       "      <td>299.98</td>\n",
       "      <td>299.98</td>\n",
       "      <td>957</td>\n",
       "      <td>43</td>\n",
       "      <td>Diamondback Women's Serene Classic Comfort Bi</td>\n",
       "      <td>NaN</td>\n",
       "      <td>299.98</td>\n",
       "      <td>http://images.acmesports.sports/Diamondback+Wo...</td>\n",
       "    </tr>\n",
       "    <tr>\n",
       "      <td>2</td>\n",
       "      <td>12</td>\n",
       "      <td>5</td>\n",
       "      <td>957</td>\n",
       "      <td>1</td>\n",
       "      <td>299.98</td>\n",
       "      <td>299.98</td>\n",
       "      <td>957</td>\n",
       "      <td>43</td>\n",
       "      <td>Diamondback Women's Serene Classic Comfort Bi</td>\n",
       "      <td>NaN</td>\n",
       "      <td>299.98</td>\n",
       "      <td>http://images.acmesports.sports/Diamondback+Wo...</td>\n",
       "    </tr>\n",
       "    <tr>\n",
       "      <td>3</td>\n",
       "      <td>15</td>\n",
       "      <td>7</td>\n",
       "      <td>957</td>\n",
       "      <td>1</td>\n",
       "      <td>299.98</td>\n",
       "      <td>299.98</td>\n",
       "      <td>957</td>\n",
       "      <td>43</td>\n",
       "      <td>Diamondback Women's Serene Classic Comfort Bi</td>\n",
       "      <td>NaN</td>\n",
       "      <td>299.98</td>\n",
       "      <td>http://images.acmesports.sports/Diamondback+Wo...</td>\n",
       "    </tr>\n",
       "    <tr>\n",
       "      <td>4</td>\n",
       "      <td>34</td>\n",
       "      <td>12</td>\n",
       "      <td>957</td>\n",
       "      <td>1</td>\n",
       "      <td>299.98</td>\n",
       "      <td>299.98</td>\n",
       "      <td>957</td>\n",
       "      <td>43</td>\n",
       "      <td>Diamondback Women's Serene Classic Comfort Bi</td>\n",
       "      <td>NaN</td>\n",
       "      <td>299.98</td>\n",
       "      <td>http://images.acmesports.sports/Diamondback+Wo...</td>\n",
       "    </tr>\n",
       "  </tbody>\n",
       "</table>\n",
       "</div>"
      ],
      "text/plain": [
       "   orderItemName  orderItemOrderId  orderItemProductId  orderItemQuantity  \\\n",
       "0              1                 1                 957                  1   \n",
       "1              9                 5                 957                  1   \n",
       "2             12                 5                 957                  1   \n",
       "3             15                 7                 957                  1   \n",
       "4             34                12                 957                  1   \n",
       "\n",
       "   orderItemSubTotal  orderItemProductPrice  productId  productCategoryId  \\\n",
       "0             299.98                 299.98        957                 43   \n",
       "1             299.98                 299.98        957                 43   \n",
       "2             299.98                 299.98        957                 43   \n",
       "3             299.98                 299.98        957                 43   \n",
       "4             299.98                 299.98        957                 43   \n",
       "\n",
       "                                     productName  productDescription  \\\n",
       "0  Diamondback Women's Serene Classic Comfort Bi                 NaN   \n",
       "1  Diamondback Women's Serene Classic Comfort Bi                 NaN   \n",
       "2  Diamondback Women's Serene Classic Comfort Bi                 NaN   \n",
       "3  Diamondback Women's Serene Classic Comfort Bi                 NaN   \n",
       "4  Diamondback Women's Serene Classic Comfort Bi                 NaN   \n",
       "\n",
       "   productPrice                                       productImage  \n",
       "0        299.98  http://images.acmesports.sports/Diamondback+Wo...  \n",
       "1        299.98  http://images.acmesports.sports/Diamondback+Wo...  \n",
       "2        299.98  http://images.acmesports.sports/Diamondback+Wo...  \n",
       "3        299.98  http://images.acmesports.sports/Diamondback+Wo...  \n",
       "4        299.98  http://images.acmesports.sports/Diamondback+Wo...  "
      ]
     },
     "execution_count": 14,
     "metadata": {},
     "output_type": "execute_result"
    }
   ],
   "source": [
    "inner_join_df.head()"
   ]
  },
  {
   "cell_type": "code",
   "execution_count": 15,
   "metadata": {},
   "outputs": [
    {
     "data": {
      "text/plain": [
       "(172198, 12)"
      ]
     },
     "execution_count": 15,
     "metadata": {},
     "output_type": "execute_result"
    }
   ],
   "source": [
    "# Birleşme sonrası boyut\n",
    "inner_join_df.shape"
   ]
  },
  {
   "cell_type": "code",
   "execution_count": 16,
   "metadata": {},
   "outputs": [
    {
     "data": {
      "text/plain": [
       "(172198, 6)"
      ]
     },
     "execution_count": 16,
     "metadata": {},
     "output_type": "execute_result"
    }
   ],
   "source": [
    "# Büyük tablo ile join tablo aynı satır sayısına sahip olduğu için tüm ürünler sipariş tablosunda var.\n",
    "order_items_df.shape"
   ]
  },
  {
   "cell_type": "code",
   "execution_count": 11,
   "metadata": {},
   "outputs": [
    {
     "data": {
      "text/plain": [
       "(1345, 6)"
      ]
     },
     "execution_count": 11,
     "metadata": {},
     "output_type": "execute_result"
    }
   ],
   "source": [
    "products_df.shape"
   ]
  },
  {
   "cell_type": "markdown",
   "metadata": {},
   "source": [
    "# Outer join two dataframes"
   ]
  },
  {
   "cell_type": "code",
   "execution_count": 17,
   "metadata": {},
   "outputs": [],
   "source": [
    "outer_join_df = pd.merge(order_items_df, products_df, left_on = \"orderItemProductId\", \n",
    "                         right_on = \"productId\", how = \"outer\")"
   ]
  },
  {
   "cell_type": "code",
   "execution_count": 18,
   "metadata": {},
   "outputs": [
    {
     "data": {
      "text/html": [
       "<div>\n",
       "<style scoped>\n",
       "    .dataframe tbody tr th:only-of-type {\n",
       "        vertical-align: middle;\n",
       "    }\n",
       "\n",
       "    .dataframe tbody tr th {\n",
       "        vertical-align: top;\n",
       "    }\n",
       "\n",
       "    .dataframe thead th {\n",
       "        text-align: right;\n",
       "    }\n",
       "</style>\n",
       "<table border=\"1\" class=\"dataframe\">\n",
       "  <thead>\n",
       "    <tr style=\"text-align: right;\">\n",
       "      <th></th>\n",
       "      <th>orderItemName</th>\n",
       "      <th>orderItemOrderId</th>\n",
       "      <th>orderItemProductId</th>\n",
       "      <th>orderItemQuantity</th>\n",
       "      <th>orderItemSubTotal</th>\n",
       "      <th>orderItemProductPrice</th>\n",
       "      <th>productId</th>\n",
       "      <th>productCategoryId</th>\n",
       "      <th>productName</th>\n",
       "      <th>productDescription</th>\n",
       "      <th>productPrice</th>\n",
       "      <th>productImage</th>\n",
       "    </tr>\n",
       "  </thead>\n",
       "  <tbody>\n",
       "    <tr>\n",
       "      <td>0</td>\n",
       "      <td>1.0</td>\n",
       "      <td>1.0</td>\n",
       "      <td>957.0</td>\n",
       "      <td>1.0</td>\n",
       "      <td>299.98</td>\n",
       "      <td>299.98</td>\n",
       "      <td>957</td>\n",
       "      <td>43</td>\n",
       "      <td>Diamondback Women's Serene Classic Comfort Bi</td>\n",
       "      <td>NaN</td>\n",
       "      <td>299.98</td>\n",
       "      <td>http://images.acmesports.sports/Diamondback+Wo...</td>\n",
       "    </tr>\n",
       "    <tr>\n",
       "      <td>1</td>\n",
       "      <td>9.0</td>\n",
       "      <td>5.0</td>\n",
       "      <td>957.0</td>\n",
       "      <td>1.0</td>\n",
       "      <td>299.98</td>\n",
       "      <td>299.98</td>\n",
       "      <td>957</td>\n",
       "      <td>43</td>\n",
       "      <td>Diamondback Women's Serene Classic Comfort Bi</td>\n",
       "      <td>NaN</td>\n",
       "      <td>299.98</td>\n",
       "      <td>http://images.acmesports.sports/Diamondback+Wo...</td>\n",
       "    </tr>\n",
       "    <tr>\n",
       "      <td>2</td>\n",
       "      <td>12.0</td>\n",
       "      <td>5.0</td>\n",
       "      <td>957.0</td>\n",
       "      <td>1.0</td>\n",
       "      <td>299.98</td>\n",
       "      <td>299.98</td>\n",
       "      <td>957</td>\n",
       "      <td>43</td>\n",
       "      <td>Diamondback Women's Serene Classic Comfort Bi</td>\n",
       "      <td>NaN</td>\n",
       "      <td>299.98</td>\n",
       "      <td>http://images.acmesports.sports/Diamondback+Wo...</td>\n",
       "    </tr>\n",
       "    <tr>\n",
       "      <td>3</td>\n",
       "      <td>15.0</td>\n",
       "      <td>7.0</td>\n",
       "      <td>957.0</td>\n",
       "      <td>1.0</td>\n",
       "      <td>299.98</td>\n",
       "      <td>299.98</td>\n",
       "      <td>957</td>\n",
       "      <td>43</td>\n",
       "      <td>Diamondback Women's Serene Classic Comfort Bi</td>\n",
       "      <td>NaN</td>\n",
       "      <td>299.98</td>\n",
       "      <td>http://images.acmesports.sports/Diamondback+Wo...</td>\n",
       "    </tr>\n",
       "    <tr>\n",
       "      <td>4</td>\n",
       "      <td>34.0</td>\n",
       "      <td>12.0</td>\n",
       "      <td>957.0</td>\n",
       "      <td>1.0</td>\n",
       "      <td>299.98</td>\n",
       "      <td>299.98</td>\n",
       "      <td>957</td>\n",
       "      <td>43</td>\n",
       "      <td>Diamondback Women's Serene Classic Comfort Bi</td>\n",
       "      <td>NaN</td>\n",
       "      <td>299.98</td>\n",
       "      <td>http://images.acmesports.sports/Diamondback+Wo...</td>\n",
       "    </tr>\n",
       "  </tbody>\n",
       "</table>\n",
       "</div>"
      ],
      "text/plain": [
       "   orderItemName  orderItemOrderId  orderItemProductId  orderItemQuantity  \\\n",
       "0            1.0               1.0               957.0                1.0   \n",
       "1            9.0               5.0               957.0                1.0   \n",
       "2           12.0               5.0               957.0                1.0   \n",
       "3           15.0               7.0               957.0                1.0   \n",
       "4           34.0              12.0               957.0                1.0   \n",
       "\n",
       "   orderItemSubTotal  orderItemProductPrice  productId  productCategoryId  \\\n",
       "0             299.98                 299.98        957                 43   \n",
       "1             299.98                 299.98        957                 43   \n",
       "2             299.98                 299.98        957                 43   \n",
       "3             299.98                 299.98        957                 43   \n",
       "4             299.98                 299.98        957                 43   \n",
       "\n",
       "                                     productName  productDescription  \\\n",
       "0  Diamondback Women's Serene Classic Comfort Bi                 NaN   \n",
       "1  Diamondback Women's Serene Classic Comfort Bi                 NaN   \n",
       "2  Diamondback Women's Serene Classic Comfort Bi                 NaN   \n",
       "3  Diamondback Women's Serene Classic Comfort Bi                 NaN   \n",
       "4  Diamondback Women's Serene Classic Comfort Bi                 NaN   \n",
       "\n",
       "   productPrice                                       productImage  \n",
       "0        299.98  http://images.acmesports.sports/Diamondback+Wo...  \n",
       "1        299.98  http://images.acmesports.sports/Diamondback+Wo...  \n",
       "2        299.98  http://images.acmesports.sports/Diamondback+Wo...  \n",
       "3        299.98  http://images.acmesports.sports/Diamondback+Wo...  \n",
       "4        299.98  http://images.acmesports.sports/Diamondback+Wo...  "
      ]
     },
     "execution_count": 18,
     "metadata": {},
     "output_type": "execute_result"
    }
   ],
   "source": [
    "outer_join_df.head()"
   ]
  },
  {
   "cell_type": "code",
   "execution_count": 19,
   "metadata": {},
   "outputs": [
    {
     "data": {
      "text/plain": [
       "(173443, 12)"
      ]
     },
     "execution_count": 19,
     "metadata": {},
     "output_type": "execute_result"
    }
   ],
   "source": [
    "outer_join_df.shape"
   ]
  },
  {
   "cell_type": "code",
   "execution_count": 20,
   "metadata": {},
   "outputs": [
    {
     "data": {
      "text/plain": [
       "(172198, 6)"
      ]
     },
     "execution_count": 20,
     "metadata": {},
     "output_type": "execute_result"
    }
   ],
   "source": [
    "order_items_df.shape"
   ]
  },
  {
   "cell_type": "code",
   "execution_count": 33,
   "metadata": {},
   "outputs": [
    {
     "data": {
      "text/plain": [
       "(1345, 6)"
      ]
     },
     "execution_count": 33,
     "metadata": {},
     "output_type": "execute_result"
    }
   ],
   "source": [
    "products_df.shape"
   ]
  },
  {
   "cell_type": "code",
   "execution_count": 24,
   "metadata": {},
   "outputs": [
    {
     "data": {
      "text/plain": [
       "1245"
      ]
     },
     "execution_count": 24,
     "metadata": {},
     "output_type": "execute_result"
    }
   ],
   "source": [
    "173443 - 172198"
   ]
  },
  {
   "cell_type": "code",
   "execution_count": 34,
   "metadata": {},
   "outputs": [],
   "source": [
    "# Ürün tablosunda olan bazı ürünlerden sipariş verilmemiş, kanıtı:"
   ]
  },
  {
   "cell_type": "code",
   "execution_count": 35,
   "metadata": {},
   "outputs": [
    {
     "data": {
      "text/plain": [
       "1345"
      ]
     },
     "execution_count": 35,
     "metadata": {},
     "output_type": "execute_result"
    }
   ],
   "source": [
    "len(products_df.productId.unique())"
   ]
  },
  {
   "cell_type": "code",
   "execution_count": 36,
   "metadata": {},
   "outputs": [
    {
     "data": {
      "text/plain": [
       "100"
      ]
     },
     "execution_count": 36,
     "metadata": {},
     "output_type": "execute_result"
    }
   ],
   "source": [
    "len(order_items_df.orderItemProductId.unique())"
   ]
  },
  {
   "cell_type": "markdown",
   "metadata": {},
   "source": [
    "# Ödev "
   ]
  },
  {
   "cell_type": "code",
   "execution_count": null,
   "metadata": {},
   "outputs": [],
   "source": [
    "# Toplam tutar bakımından En çok iptal edilen (CANCELED) 10 ürünü bulunuz.\n",
    "# orders.csv, products.csv, order_items.csv"
   ]
  }
 ],
 "metadata": {
  "kernelspec": {
   "display_name": "Python 3",
   "language": "python",
   "name": "python3"
  },
  "language_info": {
   "codemirror_mode": {
    "name": "ipython",
    "version": 3
   },
   "file_extension": ".py",
   "mimetype": "text/x-python",
   "name": "python",
   "nbconvert_exporter": "python",
   "pygments_lexer": "ipython3",
   "version": "3.6.8"
  }
 },
 "nbformat": 4,
 "nbformat_minor": 2
}
