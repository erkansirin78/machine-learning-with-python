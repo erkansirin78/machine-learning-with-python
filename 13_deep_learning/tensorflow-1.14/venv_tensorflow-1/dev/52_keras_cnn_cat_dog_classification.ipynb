{
 "cells": [
  {
   "cell_type": "markdown",
   "metadata": {},
   "source": [
    "veri seti: https://sds-platform-private.s3-us-east-2.amazonaws.com/uploads/P16-Convolutional-Neural-Networks.zip"
   ]
  },
  {
   "cell_type": "markdown",
   "metadata": {},
   "source": [
    "1000 köpek 1000 kedi fotoğrafı var"
   ]
  },
  {
   "cell_type": "markdown",
   "metadata": {},
   "source": [
    "## 1. Kütüphaneler"
   ]
  },
  {
   "cell_type": "code",
   "execution_count": 1,
   "metadata": {},
   "outputs": [],
   "source": [
    "import warnings\n",
    "warnings.filterwarnings('ignore')"
   ]
  },
  {
   "cell_type": "code",
   "execution_count": 2,
   "metadata": {},
   "outputs": [
    {
     "name": "stderr",
     "output_type": "stream",
     "text": [
      "Using TensorFlow backend.\n"
     ]
    }
   ],
   "source": [
    "from keras.models import Sequential\n",
    "from keras.layers import Convolution2D, MaxPooling2D, Flatten, Dense\n",
    "\n",
    "import warnings\n",
    "warnings.filterwarnings('ignore')"
   ]
  },
  {
   "cell_type": "code",
   "execution_count": 3,
   "metadata": {},
   "outputs": [],
   "source": [
    "# Sequential: yapay sinir ağı oluşturmak için\n",
    "# Convolution2D: ANN öncesi convolutional aşamasında ilk katman. 2D foto olduğu\n",
    "#                için videoda zaman boyutu da var\n",
    "# MaxPooling2D: CNN aşamasında pooling aşaması için\n",
    "# Flatten: CNN aşaması sonunda ANN'e hazırlık için. Fully connecter layer'a \n",
    "#           input olabilmesi için\n",
    "# Dense: ANN katmanları eklemek için"
   ]
  },
  {
   "cell_type": "markdown",
   "metadata": {},
   "source": [
    "![image.png](cnn_phases.png)\n",
    "Görsel: https://www.udemy.com/deeplearning"
   ]
  },
  {
   "cell_type": "markdown",
   "metadata": {},
   "source": [
    "![image.png](cnn_architecture.png)\n",
    "\n",
    "Görsel: Peng, Min, et al. Nirfacenet: A convolutional neural network for near-infrared face identification. Information 7.4 (2016): 61."
   ]
  },
  {
   "cell_type": "markdown",
   "metadata": {},
   "source": [
    "## 2. YAPAY SİNİR AĞI NESNESİ OLUŞTURMA\n",
    "    Yapay sinir ağı iki farklı şekilde başlatılabilir: \n",
    "    1. Katmanlar dizilimi (Sequantial layers) olarak. \n",
    "    2. Graph olarak.\n",
    "    Birinci yolda sadece yukarıda indirilen Sequantial sınıfından nesne yaratılır. \n",
    "    Bu da Karar ağacı, SVM gibi bir sınıflandırıcı olacak."
   ]
  },
  {
   "cell_type": "code",
   "execution_count": 4,
   "metadata": {},
   "outputs": [
    {
     "name": "stderr",
     "output_type": "stream",
     "text": [
      "WARNING: Logging before flag parsing goes to stderr.\n",
      "W1209 15:44:42.696464  7048 deprecation_wrapper.py:119] From c:\\users\\user\\python_egitim\\tensorflow-1\\lib\\site-packages\\keras\\backend\\tensorflow_backend.py:74: The name tf.get_default_graph is deprecated. Please use tf.compat.v1.get_default_graph instead.\n",
      "\n"
     ]
    }
   ],
   "source": [
    "classifier = Sequential()"
   ]
  },
  {
   "cell_type": "markdown",
   "metadata": {},
   "source": [
    "## 3. CONVOLUTION LAYER"
   ]
  },
  {
   "cell_type": "markdown",
   "metadata": {},
   "source": [
    "![image.gif](cnn_animation.gif)\n",
    "\n",
    "Görsel: https://hackernoon.com/visualizing-parts-of-convolutional-neural-networks-using-keras-and-cats-5cc01b214e59"
   ]
  },
  {
   "cell_type": "code",
   "execution_count": 5,
   "metadata": {},
   "outputs": [
    {
     "name": "stderr",
     "output_type": "stream",
     "text": [
      "W1209 15:44:43.987744  7048 deprecation_wrapper.py:119] From c:\\users\\user\\python_egitim\\tensorflow-1\\lib\\site-packages\\keras\\backend\\tensorflow_backend.py:517: The name tf.placeholder is deprecated. Please use tf.compat.v1.placeholder instead.\n",
      "\n",
      "W1209 15:44:44.004700  7048 deprecation_wrapper.py:119] From c:\\users\\user\\python_egitim\\tensorflow-1\\lib\\site-packages\\keras\\backend\\tensorflow_backend.py:4138: The name tf.random_uniform is deprecated. Please use tf.random.uniform instead.\n",
      "\n"
     ]
    }
   ],
   "source": [
    "classifier.add(\n",
    "    Convolution2D(filters=32, \n",
    "                  kernel_size=(3,3), \n",
    "                  input_shape=(64,64,3),\n",
    "                  activation='relu')\n",
    "              )"
   ]
  },
  {
   "cell_type": "markdown",
   "metadata": {},
   "source": [
    "## 4. POOLING STEP"
   ]
  },
  {
   "cell_type": "markdown",
   "metadata": {},
   "source": [
    "![image.gif](cnn_max_pooling.gif)\n",
    "\n",
    "Görsel: https://www.oreilly.com/ideas/visualizing-convolutional-neural-networks"
   ]
  },
  {
   "cell_type": "code",
   "execution_count": 6,
   "metadata": {},
   "outputs": [],
   "source": [
    "# temel işlevi ann'e girecek vektör boyutunu indirmektir. Bununla birlikte bilgikaybı \n",
    "# yaşatmamaya çalışır."
   ]
  },
  {
   "cell_type": "code",
   "execution_count": 7,
   "metadata": {},
   "outputs": [
    {
     "name": "stderr",
     "output_type": "stream",
     "text": [
      "W1209 15:44:47.841656  7048 deprecation_wrapper.py:119] From c:\\users\\user\\python_egitim\\tensorflow-1\\lib\\site-packages\\keras\\backend\\tensorflow_backend.py:3976: The name tf.nn.max_pool is deprecated. Please use tf.nn.max_pool2d instead.\n",
      "\n"
     ]
    }
   ],
   "source": [
    "classifier.add(MaxPooling2D(pool_size= (2, 2) ))"
   ]
  },
  {
   "cell_type": "markdown",
   "metadata": {},
   "source": [
    "## 5. FLATTENING STEP"
   ]
  },
  {
   "cell_type": "code",
   "execution_count": 8,
   "metadata": {},
   "outputs": [],
   "source": [
    "classifier.add(Flatten())"
   ]
  },
  {
   "cell_type": "markdown",
   "metadata": {},
   "source": [
    "## 6. FULL CONNECTION STEP"
   ]
  },
  {
   "cell_type": "code",
   "execution_count": 9,
   "metadata": {},
   "outputs": [],
   "source": [
    "# Bu aşamadan sonra klasik bir ann"
   ]
  },
  {
   "cell_type": "code",
   "execution_count": 10,
   "metadata": {},
   "outputs": [],
   "source": [
    "# Input layer cnn tarafından geldiği için koymuyoruz. \n",
    "# output (hidden layer) boyutu konusunda belli bir kural yok\n",
    "# output: Zayıf öğrenme olmayacak kadar büyük, hesaplamayı orlaştırmayacak kadar küçük\n",
    "classifier.add(Dense(units = 128, activation = 'relu'))"
   ]
  },
  {
   "cell_type": "markdown",
   "metadata": {},
   "source": [
    "## 7. OUTPUT LAYER"
   ]
  },
  {
   "cell_type": "code",
   "execution_count": 11,
   "metadata": {},
   "outputs": [],
   "source": [
    "classifier.add(Dense(units = 1, activation = 'sigmoid'))"
   ]
  },
  {
   "cell_type": "markdown",
   "metadata": {},
   "source": [
    "## 8. COMPILING"
   ]
  },
  {
   "cell_type": "code",
   "execution_count": 12,
   "metadata": {},
   "outputs": [],
   "source": [
    "# optimizer: Stochastic Gradient Descent'i temsilen adam\n",
    "# loss: SGD'ni optimizasyonu için kullanılacak loss function. \n",
    "#       Tahmin y ile gerçek ye değeri arasını hesaplayıp en optimal değeri\n",
    "#        SGD'ye buldurur. Logaritmik loss function. Binary olduğu için \n",
    "#       binary_crossentropy kullanıyoruz.\n",
    "# metrics: İlave olarak burada model değerlendirme kriterleri belirlenir. Bir liste halinde verilir. \n",
    "#          Biz şimdilik sadece accuracy veriyoruz."
   ]
  },
  {
   "cell_type": "code",
   "execution_count": 13,
   "metadata": {},
   "outputs": [
    {
     "name": "stderr",
     "output_type": "stream",
     "text": [
      "W1209 15:44:53.746219  7048 deprecation_wrapper.py:119] From c:\\users\\user\\python_egitim\\tensorflow-1\\lib\\site-packages\\keras\\optimizers.py:790: The name tf.train.Optimizer is deprecated. Please use tf.compat.v1.train.Optimizer instead.\n",
      "\n",
      "W1209 15:44:53.764171  7048 deprecation_wrapper.py:119] From c:\\users\\user\\python_egitim\\tensorflow-1\\lib\\site-packages\\keras\\backend\\tensorflow_backend.py:3376: The name tf.log is deprecated. Please use tf.math.log instead.\n",
      "\n",
      "W1209 15:44:53.768161  7048 deprecation.py:323] From c:\\users\\user\\python_egitim\\tensorflow-1\\lib\\site-packages\\tensorflow\\python\\ops\\nn_impl.py:180: add_dispatch_support.<locals>.wrapper (from tensorflow.python.ops.array_ops) is deprecated and will be removed in a future version.\n",
      "Instructions for updating:\n",
      "Use tf.where in 2.0, which has the same broadcast rule as np.where\n"
     ]
    }
   ],
   "source": [
    "classifier.compile(optimizer= 'adam', loss= 'binary_crossentropy',\n",
    "                  metrics=['accuracy'])"
   ]
  },
  {
   "cell_type": "markdown",
   "metadata": {},
   "source": [
    "## 9. CNN MODELİNİ EĞİTME"
   ]
  },
  {
   "cell_type": "code",
   "execution_count": 14,
   "metadata": {},
   "outputs": [],
   "source": [
    "# Keras ImagePreprocessing\n",
    "# Augmentation overfitting'i azaltır.\n",
    "# flow from directory"
   ]
  },
  {
   "cell_type": "code",
   "execution_count": 15,
   "metadata": {},
   "outputs": [
    {
     "name": "stdout",
     "output_type": "stream",
     "text": [
      "Found 8000 images belonging to 2 classes.\n",
      "Found 2000 images belonging to 2 classes.\n"
     ]
    },
    {
     "name": "stderr",
     "output_type": "stream",
     "text": [
      "W1209 15:44:59.243877  7048 deprecation_wrapper.py:119] From c:\\users\\user\\python_egitim\\tensorflow-1\\lib\\site-packages\\keras\\backend\\tensorflow_backend.py:986: The name tf.assign_add is deprecated. Please use tf.compat.v1.assign_add instead.\n",
      "\n"
     ]
    },
    {
     "name": "stdout",
     "output_type": "stream",
     "text": [
      "Epoch 1/20\n",
      "80/80 [==============================] - 18s 224ms/step - loss: 0.8063 - acc: 0.5508 - val_loss: 0.6180 - val_acc: 0.6828\n",
      "Epoch 2/20\n",
      "80/80 [==============================] - 17s 210ms/step - loss: 0.6481 - acc: 0.6258 - val_loss: 0.6414 - val_acc: 0.6328\n",
      "Epoch 3/20\n",
      "80/80 [==============================] - 16s 206ms/step - loss: 0.6185 - acc: 0.6594 - val_loss: 0.6279 - val_acc: 0.6531\n",
      "Epoch 4/20\n",
      "80/80 [==============================] - 8s 103ms/step - loss: 0.6101 - acc: 0.6652 - val_loss: 0.5975 - val_acc: 0.6603\n",
      "Epoch 5/20\n",
      "80/80 [==============================] - 8s 102ms/step - loss: 0.5990 - acc: 0.6723 - val_loss: 0.5861 - val_acc: 0.6937\n",
      "Epoch 6/20\n",
      "80/80 [==============================] - 8s 104ms/step - loss: 0.5934 - acc: 0.6746 - val_loss: 0.5768 - val_acc: 0.7078\n",
      "Epoch 7/20\n",
      "80/80 [==============================] - 8s 105ms/step - loss: 0.5691 - acc: 0.6988 - val_loss: 0.5800 - val_acc: 0.6907\n",
      "Epoch 8/20\n",
      "80/80 [==============================] - 8s 104ms/step - loss: 0.5696 - acc: 0.7031 - val_loss: 0.5633 - val_acc: 0.7172\n",
      "Epoch 9/20\n",
      "80/80 [==============================] - 8s 104ms/step - loss: 0.5903 - acc: 0.6750 - val_loss: 0.5663 - val_acc: 0.7234\n",
      "Epoch 10/20\n",
      "80/80 [==============================] - 8s 105ms/step - loss: 0.5662 - acc: 0.7035 - val_loss: 0.6308 - val_acc: 0.6554\n",
      "Epoch 11/20\n",
      "80/80 [==============================] - 8s 104ms/step - loss: 0.5562 - acc: 0.7051 - val_loss: 0.5673 - val_acc: 0.7328\n",
      "Epoch 12/20\n",
      "80/80 [==============================] - 8s 104ms/step - loss: 0.5436 - acc: 0.7195 - val_loss: 0.5442 - val_acc: 0.7266\n",
      "Epoch 13/20\n",
      "80/80 [==============================] - 8s 101ms/step - loss: 0.5470 - acc: 0.7148 - val_loss: 0.5547 - val_acc: 0.7276\n",
      "Epoch 14/20\n",
      "80/80 [==============================] - 8s 104ms/step - loss: 0.5352 - acc: 0.7328 - val_loss: 0.5088 - val_acc: 0.7609\n",
      "Epoch 15/20\n",
      "80/80 [==============================] - 8s 104ms/step - loss: 0.5398 - acc: 0.7309 - val_loss: 0.5731 - val_acc: 0.7203\n",
      "Epoch 16/20\n",
      "80/80 [==============================] - 8s 102ms/step - loss: 0.5291 - acc: 0.7344 - val_loss: 0.5385 - val_acc: 0.7244\n",
      "Epoch 17/20\n",
      "80/80 [==============================] - 8s 103ms/step - loss: 0.5111 - acc: 0.7402 - val_loss: 0.5353 - val_acc: 0.7578\n",
      "Epoch 18/20\n",
      "80/80 [==============================] - 8s 103ms/step - loss: 0.5367 - acc: 0.7238 - val_loss: 0.5275 - val_acc: 0.7422\n",
      "Epoch 19/20\n",
      "80/80 [==============================] - 8s 102ms/step - loss: 0.5157 - acc: 0.7371 - val_loss: 0.6005 - val_acc: 0.6939\n",
      "Epoch 20/20\n",
      "80/80 [==============================] - 8s 103ms/step - loss: 0.4882 - acc: 0.7535 - val_loss: 0.5453 - val_acc: 0.7219\n"
     ]
    },
    {
     "data": {
      "text/plain": [
       "<keras.callbacks.History at 0x167ddab9470>"
      ]
     },
     "execution_count": 15,
     "metadata": {},
     "output_type": "execute_result"
    }
   ],
   "source": [
    "from keras.preprocessing.image import ImageDataGenerator\n",
    "\n",
    "train_datagen = ImageDataGenerator(\n",
    "        rescale=1./255,\n",
    "        shear_range=0.2,\n",
    "        zoom_range=0.2,\n",
    "        horizontal_flip=True)\n",
    "\n",
    "test_datagen = ImageDataGenerator(rescale=1./255)\n",
    "\n",
    "training_set = train_datagen.flow_from_directory(\n",
    "        'D:/Datasets/ignored_data/cnn_cats_dogs/dataset/training_set',\n",
    "        target_size=(64, 64),\n",
    "        batch_size=32,\n",
    "        class_mode='binary')\n",
    "\n",
    "test_set = test_datagen.flow_from_directory(\n",
    "        'D:/Datasets/ignored_data/cnn_cats_dogs/dataset/test_set',\n",
    "        target_size=(64, 64),\n",
    "        batch_size=32,\n",
    "        class_mode='binary')\n",
    "\n",
    "classifier.fit_generator(\n",
    "        training_set,\n",
    "        steps_per_epoch=80,\n",
    "        epochs=20,\n",
    "        validation_data=test_set,\n",
    "        validation_steps=20)"
   ]
  },
  {
   "cell_type": "code",
   "execution_count": null,
   "metadata": {},
   "outputs": [],
   "source": []
  }
 ],
 "metadata": {
  "kernelspec": {
   "display_name": "tensorflow-1",
   "language": "python",
   "name": "tensorflow-1"
  },
  "language_info": {
   "codemirror_mode": {
    "name": "ipython",
    "version": 3
   },
   "file_extension": ".py",
   "mimetype": "text/x-python",
   "name": "python",
   "nbconvert_exporter": "python",
   "pygments_lexer": "ipython3",
   "version": "3.6.5"
  }
 },
 "nbformat": 4,
 "nbformat_minor": 2
}
